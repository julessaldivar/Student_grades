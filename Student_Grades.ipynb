{
 "cells": [
  {
   "cell_type": "code",
   "execution_count": 2,
   "id": "18967267",
   "metadata": {},
   "outputs": [
    {
     "name": "stdout",
     "output_type": "stream",
     "text": [
      "[[11.   9.  16.  13.5]\n",
      " [12.  11.   8.5 10. ]\n",
      " [11.  18.  11.5  9. ]\n",
      " [ 7.  15.5 11.  14. ]\n",
      " [ 9.5 12.  10.5 14. ]\n",
      " [15.  18.5  7.  12. ]\n",
      " [18.  15.5 11.   7.5]]\n"
     ]
    }
   ],
   "source": [
    "import numpy as np\n",
    "import statistics as stat\n",
    "# add dictionary of our grades for each student \n",
    "grades = {\n",
    "    \"Adam\": {\"Math\": 11, \"Science\": 9, \"Reading\": 16, \"History\": 13.5},\n",
    "    \"Anna\": {\"Math\": 12, \"Science\": 11, \"Reading\": 8.5, \"History\": 10},\n",
    "    \"James\": {\"Math\": 11, \"Science\": 18, \"Reading\": 11.5, \"History\": 9},\n",
    "    \"Corey\": {\"Math\": 7, \"Science\": 15.5, \"Reading\": 11, \"History\": 14},\n",
    "    \"Alisha\": {\"Math\": 9.5, \"Science\": 12, \"Reading\": 10.5, \"History\": 14},\n",
    "    \"Jodie\": {\"Math\": 15, \"Science\": 18.5, \"Reading\": 7, \"History\": 12},\n",
    "    \"John\": {\"Math\": 18, \"Science\": 15.5, \"Reading\": 11, \"History\": 7.5}\n",
    "}\n",
    "\n",
    "# convert to a np array\n",
    "grades_array = np.array([[student[\"Math\"], student[\"Science\"], student[\"Reading\"], student[\"History\"]] for student in grades.values()])\n",
    "# checking my array\n",
    "print(grades_array)"
   ]
  },
  {
   "cell_type": "markdown",
   "id": "78465a7b",
   "metadata": {},
   "source": [
    "## Question 1\n",
    "**mean, median, mode**"
   ]
  },
  {
   "cell_type": "code",
   "execution_count": 3,
   "id": "b13094da",
   "metadata": {},
   "outputs": [
    {
     "name": "stdout",
     "output_type": "stream",
     "text": [
      "Mean grades by subject:\n",
      "\n",
      "Math: 11.928571428571429\n",
      "Science: 14.214285714285714\n",
      "Reading: 10.785714285714286\n",
      "History: 11.428571428571429\n",
      "\n",
      "Median grade in Math: 11.0\n",
      "\n",
      "Mode for History: 14.0\n"
     ]
    }
   ],
   "source": [
    "# Calculate mean for each individual subject\n",
    "mean_grades = np.mean(grades_array, axis=0)  # utilizing np methods, mean and median\n",
    "print(\"Mean grades by subject:\\n\")\n",
    "print(f\"Math: {mean_grades[0]}\")\n",
    "print(f\"Science: {mean_grades[1]}\")\n",
    "print(f\"Reading: {mean_grades[2]}\")\n",
    "print(f\"History: {mean_grades[3]}\")\n",
    "\n",
    "# Find the median grade in Math for all students.\n",
    "median_math = np.median(grades_array[:, 0])  # [:, 0] means we are selecting all rows in the first column \n",
    "print(f\"\\nMedian grade in Math: {median_math}\")\n",
    "\n",
    "# Calculate the mode for History.\n",
    "mode_history = stat.mode(grades_array[:, 3])  # utilizing stat method, mode\n",
    "print(f\"\\nMode for History: {mode_history}\")"
   ]
  },
  {
   "cell_type": "markdown",
   "id": "6b61d89e",
   "metadata": {},
   "source": [
    "## Question 2\n",
    "**calculate the correlation**"
   ]
  },
  {
   "cell_type": "code",
   "execution_count": 10,
   "id": "d48e3994",
   "metadata": {},
   "outputs": [
    {
     "name": "stdout",
     "output_type": "stream",
     "text": [
      "Correlation Math and Science: -0.8497241792351075\n",
      "Correlation Math and Reading: -0.6765504354702149\n",
      "Correlation Math and History: -0.1847003099562956\n",
      "Correlation Science and Reading: 0.2395654725402433\n",
      "Correlation Science and History: -0.28651472705545306\n",
      "Correlation Reading and History: 0.47121316867407687\n",
      "\n",
      "Subjects with the strongest correlation are Math and Science with: -0.8497241792351075\n"
     ]
    }
   ],
   "source": [
    "# calculate the correlation between the different subjects\n",
    "correlation_matrix = np.corrcoef(grades_array)\n",
    "\n",
    "# compare each subject\n",
    "print(f\"Correlation Math and Science: {correlation_matrix[0, 1]}\")\n",
    "print(f\"Correlation Math and Reading: {correlation_matrix[0, 2]}\")\n",
    "print(f\"Correlation Math and History: {correlation_matrix[0, 3]}\")\n",
    "print(f\"Correlation Science and Reading: {correlation_matrix[1, 2]}\")\n",
    "print(f\"Correlation Science and History: {correlation_matrix[1, 3]}\")\n",
    "print(f\"Correlation Reading and History: {correlation_matrix[2, 3]}\")\n",
    "\n",
    "# What two subjects have the strongest correlation?\n",
    "print(f\"\\nSubjects with the strongest correlation are Math and Science with: {correlation_matrix[0, 1]}\")"
   ]
  },
  {
   "cell_type": "markdown",
   "id": "91ad3c82",
   "metadata": {},
   "source": [
    "## Question 3\n",
    "**Write a Python function named desc_stats() that takes a list of numbers and prints the following statistical calculations:\n",
    "Mean,\n",
    " Median,\n",
    " Mode,\n",
    " Minimum,\n",
    " Maximum,\n",
    " Range,\n",
    " Variance,\n",
    " Standard deviation.**\n"
   ]
  },
  {
   "cell_type": "code",
   "execution_count": 19,
   "id": "3a5a5007",
   "metadata": {},
   "outputs": [
    {
     "name": "stdout",
     "output_type": "stream",
     "text": [
      "Stats for Math Exam:\n",
      "Mean: 59.47826086956522\n",
      "Median: 60.0\n",
      "Mode: 60\n",
      "Minimum: 5\n",
      "Maximum: 99\n",
      "Range: 94\n",
      "Variance: 664.1625708884687\n",
      "Standard Deviation: 25.771351747404882\n"
     ]
    }
   ],
   "source": [
    "math_exam = [24, 5, 15, 60, 54, 82, 99, 80, 70, 98, 93, 60, 33, 22, 65, 61, 51, 58, 83, 86, 42, 67, 60]\n",
    "# write function\n",
    "def desc_stats(scores):\n",
    "    mean = np.mean(scores)\n",
    "    print(f\"Mean: {mean}\")\n",
    "    median = np.median(scores)\n",
    "    print(f\"Median: {median}\")\n",
    "    mode = stat.mode(scores)\n",
    "    print(f\"Mode: {mode}\")\n",
    "    minimum = np.min(scores)\n",
    "    print(f\"Minimum: {minimum}\")\n",
    "    maximum = np.max(scores)\n",
    "    print(f\"Maximum: {maximum}\")\n",
    "    range = np.ptp(scores)\n",
    "    print(f\"Range: {range}\")\n",
    "    variance = np.var(scores)\n",
    "    print(f\"Variance: {variance}\")\n",
    "    std_deviation = np.std(scores)\n",
    "    print(f\"Standard Deviation: {std_deviation}\")\n",
    "    \n",
    "print(\"Stats for Math Exam:\")  \n",
    "desc_stats(math_exam)"
   ]
  },
  {
   "cell_type": "markdown",
   "id": "45ea25bf",
   "metadata": {},
   "source": [
    "# Extended Challenge\n",
    "**Interpret the results**\n",
    "\n",
    "Based on the results I would definitely curve the grades. With the mean, median and mode all below or at tipping point of failing(60%) it shows that a large majority of the class may benefit from a curve, and show's the difficulty of the exam. The variance and the range are both pretty large, but the majority of students were still at or significantly below passing. "
   ]
  },
  {
   "cell_type": "code",
   "execution_count": null,
   "id": "53eea5ed",
   "metadata": {},
   "outputs": [],
   "source": []
  }
 ],
 "metadata": {
  "kernelspec": {
   "display_name": "Python 3 (ipykernel)",
   "language": "python",
   "name": "python3"
  },
  "language_info": {
   "codemirror_mode": {
    "name": "ipython",
    "version": 3
   },
   "file_extension": ".py",
   "mimetype": "text/x-python",
   "name": "python",
   "nbconvert_exporter": "python",
   "pygments_lexer": "ipython3",
   "version": "3.11.7"
  }
 },
 "nbformat": 4,
 "nbformat_minor": 5
}
